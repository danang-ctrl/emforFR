import os
import cv2
import matplotlib.pyplot as plt
import pandas as pd
import numpy as np
from PIL import Image
import scipy as sc
import glob
import time
from scipy import multivariate_normal
path = "//content//drive//MyDrive//EM algorithm//data//lfw-funneled/lfw_funneled*"
